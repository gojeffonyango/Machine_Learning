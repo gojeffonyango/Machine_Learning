{
 "cells": [
  {
   "cell_type": "markdown",
   "id": "a02e0ee0-ee04-4dbd-bdc8-1a857953be0d",
   "metadata": {},
   "source": [
    "# Implementing Grid Search\n",
    "Grid Search is a conventional algorithm used in machine learning for hyperparameter tuning. In the example below, we demonstrate the implementation of GridSearch in hyperparameter tuning."
   ]
  },
  {
   "cell_type": "code",
   "execution_count": 9,
   "id": "13fcbcbd-9e63-40fd-8b10-2bcea4405e23",
   "metadata": {},
   "outputs": [
    {
     "name": "stdout",
     "output_type": "stream",
     "text": [
      "[0.9666666666666667, 0.9666666666666667, 0.9733333333333334, 0.9733333333333334, 0.98, 0.98, 0.9866666666666667, 0.9866666666666667]\n"
     ]
    }
   ],
   "source": [
    "from sklearn import datasets\n",
    "from sklearn.linear_model import LogisticRegression\n",
    "\n",
    "iris =datasets.load_iris()\n",
    "\n",
    "X = iris['data']\n",
    "y = iris ['target']\n",
    "\n",
    "logit = LogisticRegression(max_iter = 10000)\n",
    "\n",
    "C = [0.25, 0.5,0.75,1,1.25,1.5, 1.75,2]\n",
    "\n",
    "scores =[]\n",
    "\n",
    "for choice in C:\n",
    "  logit.set_params(C= choice)\n",
    "  logit.fit(X,y)\n",
    "  scores.append(logit.score(X,y))\n",
    "print(scores)\n",
    "    "
   ]
  },
  {
   "cell_type": "markdown",
   "id": "deafeb04-20bd-44ff-922b-0334f12fe6d3",
   "metadata": {},
   "source": [
    "The lower values of C performed worse than the base parameter of 1. However, as we increased the value of C to 1.75 the model experienced increased accuracy. It seems that increasing C beyond this amount does not help increase model accuracy.\n",
    "\n",
    "The value # C # specifies the range of values to test"
   ]
  }
 ],
 "metadata": {
  "kernelspec": {
   "display_name": "Python [conda env:base] *",
   "language": "python",
   "name": "conda-base-py"
  },
  "language_info": {
   "codemirror_mode": {
    "name": "ipython",
    "version": 3
   },
   "file_extension": ".py",
   "mimetype": "text/x-python",
   "name": "python",
   "nbconvert_exporter": "python",
   "pygments_lexer": "ipython3",
   "version": "3.12.7"
  }
 },
 "nbformat": 4,
 "nbformat_minor": 5
}

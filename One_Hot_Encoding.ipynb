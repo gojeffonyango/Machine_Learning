{
 "cells": [
  {
   "cell_type": "markdown",
   "id": "2431b289-c088-43d1-9256-e82eb61a0b15",
   "metadata": {},
   "source": [
    "# One Hot Encoding\n",
    "- G.J.O\n",
    "  \n",
    "One-hot encoding is a technique used to convert categorical data into a binary format  where each category is represented by a separate column with a 1 indicating its presence and 0s for all other categories.\n",
    "\n",
    "Common challenge in ML is dealing with categorical variables such as colors, product types, or locations, beacause the algorithms typically require input."
   ]
  },
  {
   "cell_type": "markdown",
   "id": "ca1be147-4ebd-45db-a364-c3dcf9f83645",
   "metadata": {},
   "source": [
    "# Why Use One-Hot Encoding?\n",
    "One-hot encoding is an essential technique in data preprocessing for several reasons. It transforms categorical data into a format that machine learning models can easily understand and use. This transformation allows each category to be treated independently without implying any false relationships between them.\n",
    "\n",
    "Additionally, many data processing and machine learning libraries support one-hot encoding. It fits smoothly into the data preprocessing workflow, making it easier to prepare datasets for various machine learning algorithms."
   ]
  },
  {
   "cell_type": "markdown",
   "id": "9fa5c2f0-2317-45f7-9df2-3e7ec611e7d7",
   "metadata": {},
   "source": [
    "# Avoiding ordinality\n",
    "Label encoding is another method to convert categorical data into numerical values by assigning each category a unique number. However, this approach can create problems because it might suggest an order or ranking among categories that doesn't actually exist.\n",
    "\n",
    "For example, assigning 1 to Red, 2 to Green, and 3 to Blue could make the model think that Green is greater than Red and Blue is greater than both. This misunderstanding can negatively affect the model's performance.\n",
    "\n",
    "One-hot encoding solves this problem by creating a separate binary column for each category. This way, the model can see that each category is distinct and unrelated to the others. \n",
    "\n",
    "Label encoding is useful when the categorical data has an inherent ordinal relationship, meaning the categories have a meaningful order or ranking. In such cases, the numerical values assigned by label encoding can effectively represent this order, making it a suitable choice."
   ]
  },
  {
   "cell_type": "code",
   "execution_count": 7,
   "id": "0123c65f-288a-414f-b2a8-a7f65c8f2c39",
   "metadata": {},
   "outputs": [
    {
     "data": {
      "text/html": [
       "<div>\n",
       "<style scoped>\n",
       "    .dataframe tbody tr th:only-of-type {\n",
       "        vertical-align: middle;\n",
       "    }\n",
       "\n",
       "    .dataframe tbody tr th {\n",
       "        vertical-align: top;\n",
       "    }\n",
       "\n",
       "    .dataframe thead th {\n",
       "        text-align: right;\n",
       "    }\n",
       "</style>\n",
       "<table border=\"1\" class=\"dataframe\">\n",
       "  <thead>\n",
       "    <tr style=\"text-align: right;\">\n",
       "      <th></th>\n",
       "      <th>Color_Blue</th>\n",
       "      <th>Color_Green</th>\n",
       "      <th>Color_Red</th>\n",
       "    </tr>\n",
       "  </thead>\n",
       "  <tbody>\n",
       "    <tr>\n",
       "      <th>0</th>\n",
       "      <td>0</td>\n",
       "      <td>0</td>\n",
       "      <td>1</td>\n",
       "    </tr>\n",
       "    <tr>\n",
       "      <th>1</th>\n",
       "      <td>0</td>\n",
       "      <td>1</td>\n",
       "      <td>0</td>\n",
       "    </tr>\n",
       "    <tr>\n",
       "      <th>2</th>\n",
       "      <td>1</td>\n",
       "      <td>0</td>\n",
       "      <td>0</td>\n",
       "    </tr>\n",
       "    <tr>\n",
       "      <th>3</th>\n",
       "      <td>0</td>\n",
       "      <td>0</td>\n",
       "      <td>1</td>\n",
       "    </tr>\n",
       "  </tbody>\n",
       "</table>\n",
       "</div>"
      ],
      "text/plain": [
       "   Color_Blue  Color_Green  Color_Red\n",
       "0           0            0          1\n",
       "1           0            1          0\n",
       "2           1            0          0\n",
       "3           0            0          1"
      ]
     },
     "execution_count": 7,
     "metadata": {},
     "output_type": "execute_result"
    }
   ],
   "source": [
    "import pandas as pd\n",
    "\n",
    "#sample data\n",
    "data = {'Color': ['Red', 'Green','Blue', 'Red']}\n",
    "df = pd.DataFrame(data)\n",
    "\n",
    "#Applying one-hot encoding\n",
    "df_encoded = pd.get_dummies (df, dtype =int)\n",
    "\n",
    "#display the encoded DataFrame\n",
    "\n",
    "df_encoded"
   ]
  },
  {
   "cell_type": "markdown",
   "id": "3cd8fd20-5969-4894-8f70-709b42afb14e",
   "metadata": {},
   "source": [
    "# Using Scikit-learn's OneHotEncoder\n",
    "For flexibility and control over the encoding process, Scikit-learn offers the OneHotEncoder class. This class provides advanced options, such as handling unknown categories and fitting the encoder to the training data."
   ]
  },
  {
   "cell_type": "code",
   "execution_count": 10,
   "id": "5c36578f-35fe-4e40-8fe4-a59aeaed9037",
   "metadata": {},
   "outputs": [
    {
     "data": {
      "text/plain": [
       "array([[0., 0., 1.]])"
      ]
     },
     "execution_count": 10,
     "metadata": {},
     "output_type": "execute_result"
    }
   ],
   "source": [
    "from sklearn.preprocessing import OneHotEncoder\n",
    "import numpy as np\n",
    "\n",
    "#Creating the encoder\n",
    "enc = OneHotEncoder(handle_unknown = 'ignore')\n",
    "\n",
    "#Sample data\n",
    "\n",
    "X = [['Red'], ['Green'], ['Blue']]\n",
    "\n",
    "#Fitting the encoder to the data\n",
    "enc.fit(X)\n",
    "\n",
    "#Transforming new data\n",
    "result = enc.transform([['Red']]).toarray()\n",
    "\n",
    "#Displaying the encoded result\n",
    "result"
   ]
  },
  {
   "cell_type": "markdown",
   "id": "bfb9446a-868d-4a00-baa6-99af0453184f",
   "metadata": {},
   "source": [
    "# Handling Categorical Features With Many Unique Values\n",
    "One significant challenge with one-hot encoding is the \"curse of dimensionality.\" This occurs when a categorical feature has a large number of unique values, leading to an explosion in the number of columns. This can make the dataset sparse and computationally expensive to process.\n",
    "\n",
    "# Feature Hashing\n",
    "Feature hashing, also known as the hashing trick, can help reduce dimensionality by hashing categories into a fixed number of columns. This approach maintains efficiency while controlling the number of features.\n"
   ]
  },
  {
   "cell_type": "code",
   "execution_count": 19,
   "id": "110bfd47-5eea-4ea8-a2f6-747b4c4910a2",
   "metadata": {},
   "outputs": [
    {
     "name": "stdout",
     "output_type": "stream",
     "text": [
      "Hashed Features DataFrame:\n",
      "   Feature1  Feature2  Feature3\n",
      "0       0.0       0.0       1.0\n",
      "1       0.0       1.0       0.0\n",
      "2      -1.0       0.0       0.0\n",
      "3       0.0       0.0       1.0\n",
      "4       0.0      -1.0       0.0\n"
     ]
    }
   ],
   "source": [
    "from sklearn.feature_extraction import FeatureHasher\n",
    "import pandas as pd\n",
    "\n",
    "# Sample data\n",
    "data = {'Color': ['Red', 'Green', 'Blue', 'Red', 'Yellow']}\n",
    "df = pd.DataFrame(data)\n",
    "\n",
    "# Initialize FeatureHasher\n",
    "hasher = FeatureHasher(n_features=3, input_type='string')\n",
    "\n",
    "# Apply feature hashing (fix here 👇)\n",
    "hashed_features = hasher.transform(df['Color'].apply(lambda x: [x]))\n",
    "hashed_df = pd.DataFrame(hashed_features.toarray(), columns=['Feature1', 'Feature2', 'Feature3'])\n",
    "\n",
    "# Display the hashed features DataFrame\n",
    "print(\"Hashed Features DataFrame:\")\n",
    "print(hashed_df)\n"
   ]
  },
  {
   "cell_type": "markdown",
   "id": "5a9f4e82-bb2c-4740-910c-3f06e77d53a4",
   "metadata": {},
   "source": [
    "We import the necessary libraries, including FeatureHasher from sklearn.feature_extraction and pandas. We then create a DataFrame with a categorical feature 'Color'.\n",
    "We initialize FeatureHasher with the desired number of output features (n_features=3) and specify the input type as 'string'. After that, we apply the transform method to the 'Color' column and convert the resulting sparse matrix to a dense array, which is then converted to a DataFrame. Finally, we print the DataFrame containing the hashed features.\n",
    "\n",
    "# Dimensionality reduction\n",
    "After one-hot encoding, techniques like Principal Component Analysis (PCA) can be applied to reduce the number of dimensions while preserving the essential information in the dataset.\n",
    "\n",
    "PCA can help compress the high-dimensional data into a lower-dimensional space, making it more manageable for machine learning algorithms."
   ]
  },
  {
   "cell_type": "code",
   "execution_count": 30,
   "id": "0936f044-59c4-4933-b535-2db0c64d366f",
   "metadata": {},
   "outputs": [
    {
     "name": "stdout",
     "output_type": "stream",
     "text": [
      "PCA-Transformed DataFrame:\n",
      "      PCA1          PCA2\n",
      "0  0.69282  1.036858e-16\n",
      "1 -0.46188 -4.082483e-01\n",
      "2 -0.46188  8.164966e-01\n",
      "3  0.69282  2.308544e-16\n",
      "4 -0.46188 -4.082483e-01\n"
     ]
    }
   ],
   "source": [
    "from sklearn.preprocessing import OneHotEncoder\n",
    "from sklearn.decomposition import PCA\n",
    "import pandas as pd\n",
    "\n",
    "# Sample data\n",
    "data = {'Color': ['Red', 'Green', 'Blue', 'Red', 'Yellow']}\n",
    "df = pd.DataFrame(data)\n",
    "\n",
    "# Instantiate encoder\n",
    "encoder = OneHotEncoder(sparse_output=False)\n",
    "one_hot_encoded = encoder.fit_transform(df[['Color']])\n",
    "\n",
    "# Feature names\n",
    "feature_names = encoder.get_feature_names_out(['Color'])\n",
    "df_encoded = pd.DataFrame(one_hot_encoded, columns=feature_names)\n",
    "\n",
    "# PCA transformation\n",
    "pca = PCA(n_components=2)\n",
    "pca_transformed = pca.fit_transform(df_encoded)\n",
    "df_pca = pd.DataFrame(pca_transformed, columns=['PCA1', 'PCA2'])\n",
    "\n",
    "# Output\n",
    "print(\"PCA-Transformed DataFrame:\")\n",
    "print(df_pca)\n"
   ]
  },
  {
   "cell_type": "code",
   "execution_count": null,
   "id": "23ab5b56-2d11-4f72-96e5-4f7b9a8dd0d2",
   "metadata": {},
   "outputs": [],
   "source": []
  }
 ],
 "metadata": {
  "kernelspec": {
   "display_name": "Python [conda env:base] *",
   "language": "python",
   "name": "conda-base-py"
  },
  "language_info": {
   "codemirror_mode": {
    "name": "ipython",
    "version": 3
   },
   "file_extension": ".py",
   "mimetype": "text/x-python",
   "name": "python",
   "nbconvert_exporter": "python",
   "pygments_lexer": "ipython3",
   "version": "3.12.7"
  }
 },
 "nbformat": 4,
 "nbformat_minor": 5
}

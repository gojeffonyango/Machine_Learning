{
 "cells": [
  {
   "cell_type": "code",
   "execution_count": 2,
   "id": "c82d56b9-da3e-42cc-aee0-4c680d995ed2",
   "metadata": {},
   "outputs": [
    {
     "name": "stdout",
     "output_type": "stream",
     "text": [
      "{4, 7}\n",
      "<class 'set'>\n"
     ]
    }
   ],
   "source": [
    "set1 = {4,7}\n",
    "print(set1)\n",
    "print(type(set1))"
   ]
  },
  {
   "cell_type": "code",
   "execution_count": 4,
   "id": "603895c9-9405-4187-9180-daaa4f4122e9",
   "metadata": {},
   "outputs": [
    {
     "name": "stdout",
     "output_type": "stream",
     "text": [
      "{1, 2, 3, 4}\n"
     ]
    }
   ],
   "source": [
    "my_list = [1,2,3,4,4]\n",
    "my_set_from_list = set(my_list)\n",
    "print(my_set_from_list )"
   ]
  },
  {
   "cell_type": "code",
   "execution_count": 6,
   "id": "758e915d-6b55-4d18-a810-3971bb2c2317",
   "metadata": {},
   "outputs": [
    {
     "data": {
      "text/plain": [
       "{(1, 1),\n",
       " (1, 2),\n",
       " (1, 3),\n",
       " (1, 4),\n",
       " (1, 5),\n",
       " (1, 6),\n",
       " (2, 1),\n",
       " (2, 2),\n",
       " (2, 3),\n",
       " (2, 4),\n",
       " (2, 5),\n",
       " (2, 6),\n",
       " (3, 1),\n",
       " (3, 2),\n",
       " (3, 3),\n",
       " (3, 4),\n",
       " (3, 5),\n",
       " (3, 6),\n",
       " (4, 1),\n",
       " (4, 2),\n",
       " (4, 3),\n",
       " (4, 4),\n",
       " (4, 5),\n",
       " (4, 6),\n",
       " (5, 1),\n",
       " (5, 2),\n",
       " (5, 3),\n",
       " (5, 4),\n",
       " (5, 5),\n",
       " (5, 6),\n",
       " (6, 1),\n",
       " (6, 2),\n",
       " (6, 3),\n",
       " (6, 4),\n",
       " (6, 5),\n",
       " (6, 6)}"
      ]
     },
     "execution_count": 6,
     "metadata": {},
     "output_type": "execute_result"
    }
   ],
   "source": [
    "#throwing two dice\n",
    "n_dice = 2\n",
    "dice_faces = {1,2,3,4,5,6}\n",
    "\n",
    "from itertools import product as prod\n",
    "event_space = set(prod(dice_faces, repeat = n_dice))\n",
    "event_space"
   ]
  },
  {
   "cell_type": "code",
   "execution_count": 8,
   "id": "c6f155fc-86b9-44ea-9ac3-17faf8ebd6e9",
   "metadata": {},
   "outputs": [
    {
     "name": "stdout",
     "output_type": "stream",
     "text": [
      "(3, 4),(4, 3),(3, 1),(5, 4),(4, 6),(5, 1),(2, 2),(1, 6),(2, 5),(1, 3),(6, 2),(6, 5),(4, 2),(4, 5),(3, 3),(5, 6),(3, 6),(5, 3),(2, 4),(1, 2),(2, 1),(1, 5),(6, 1),(6, 4),(3, 2),(4, 1),(3, 5),(5, 2),(4, 4),(5, 5),(1, 1),(1, 4),(2, 3),(2, 6),(6, 6),(6, 3),"
     ]
    }
   ],
   "source": [
    "for outcome in event_space:\n",
    "    print(outcome, end = ',')\n"
   ]
  },
  {
   "cell_type": "code",
   "execution_count": 10,
   "id": "5d908c78-6cdc-4e5d-bdea-345cd49b5ab6",
   "metadata": {},
   "outputs": [
    {
     "name": "stdout",
     "output_type": "stream",
     "text": [
      "36\n"
     ]
    }
   ],
   "source": [
    "print(len(event_space))"
   ]
  },
  {
   "cell_type": "code",
   "execution_count": null,
   "id": "20901ebf-9a45-4d0a-b41f-e03eb34f4926",
   "metadata": {},
   "outputs": [],
   "source": []
  }
 ],
 "metadata": {
  "kernelspec": {
   "display_name": "Python 3 (ipykernel)",
   "language": "python",
   "name": "python3"
  },
  "language_info": {
   "codemirror_mode": {
    "name": "ipython",
    "version": 3
   },
   "file_extension": ".py",
   "mimetype": "text/x-python",
   "name": "python",
   "nbconvert_exporter": "python",
   "pygments_lexer": "ipython3",
   "version": "3.12.4"
  }
 },
 "nbformat": 4,
 "nbformat_minor": 5
}
